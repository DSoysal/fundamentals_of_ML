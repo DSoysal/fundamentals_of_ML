{
 "cells": [
  {
   "cell_type": "markdown",
   "metadata": {},
   "source": [
    "## Preliminaries\n",
    "function definitions for activation functions"
   ]
  },
  {
   "cell_type": "code",
   "execution_count": null,
   "metadata": {},
   "outputs": [],
   "source": [
    "x = np.linspace(-5, 5, 100)\n",
    "\n",
    "y1 = (np.exp(2*x)-1)/(np.exp(2*x)+1) #Tanh function\n",
    "y2 = 1/(1+np.exp(-x)) #Sigmoid function\n",
    "y3 = np.maximum(0,x) #ReLU function\n",
    "dy1 = (4*np.exp(2*x))/np.square((np.exp(2*x)+1)) #Derivative of tanh function\n",
    "dy2 = (np.exp(-x))/np.square((np.exp(-x)+1))#Derivative of sigmoid function\n",
    "#dy2 = y2*(1-y2) #An alternative for sigmoid derivative\n",
    "dy3 = np.where(x > 0, 1, 0) #Derivative of ReLU function"
   ]
  }
 ],
 "metadata": {
  "kernelspec": {
   "display_name": "Python 3",
   "language": "python",
   "name": "python3"
  },
  "language_info": {
   "name": "python",
   "version": "3.11.7"
  }
 },
 "nbformat": 4,
 "nbformat_minor": 2
}
