{
 "cells": [
  {
   "cell_type": "markdown",
   "metadata": {},
   "source": [
    "## 1.1 Preliminaries\n",
    "function definitions for activation functions"
   ]
  },
  {
   "cell_type": "code",
   "execution_count": null,
   "metadata": {},
   "outputs": [],
   "source": [
    "x = np.linspace(-5, 5, 100)\n",
    "\n",
    "y1 = (np.exp(2*x)-1)/(np.exp(2*x)+1) #Tanh function\n",
    "y2 = 1/(1+np.exp(-x)) #Sigmoid function\n",
    "y3 = np.maximum(0,x) #ReLU function\n",
    "dy1 = (4*np.exp(2*x))/np.square((np.exp(2*x)+1)) #Derivative of tanh function\n",
    "dy2 = (np.exp(-x))/np.square((np.exp(-x)+1))#Derivative of sigmoid function\n",
    "#dy2 = y2*(1-y2) #An alternative for sigmoid derivative\n",
    "dy3 = np.where(x > 0, 1, 0) #Derivative of ReLU function"
   ]
  },
  {
   "cell_type": "markdown",
   "metadata": {},
   "source": [
    "plots"
   ]
  },
  {
   "cell_type": "code",
   "execution_count": null,
   "metadata": {},
   "outputs": [],
   "source": [
    "plt.plot(x, y1, label='tanh(x)') # tanh function\n",
    "plt.xlabel('x')\n",
    "plt.ylabel('tanh(x)')\n",
    "plt.title('Tanh Function')\n",
    "plt.grid(True)\n",
    "plt.legend()\n",
    "plt.show()\n",
    "\n",
    "plt.plot(x, dy1, label='d(tanh(x))/dx') # derivative of tanh function\n",
    "plt.xlabel('x')\n",
    "plt.ylabel('d(tanh(x))/dx')\n",
    "plt.title('Derivative of tanh(x)')\n",
    "plt.grid(True)\n",
    "plt.legend()\n",
    "plt.show()\n",
    "\n",
    "plt.plot(x, y2, label='sigmoid(x)') # sigmoid function\n",
    "plt.xlabel('x')\n",
    "plt.ylabel('sigmoid(x)')\n",
    "plt.title('Sigmoid Function')\n",
    "plt.grid(True)\n",
    "plt.legend()\n",
    "plt.show()\n",
    "\n",
    "plt.plot(x, dy2, label='d(sigmoid(x))/dx') # derivative of sigmoid function\n",
    "plt.xlabel('x')\n",
    "plt.ylabel('d(sigmoid(x))/dx')\n",
    "plt.title('Derivative of sigmoid(x)')\n",
    "plt.grid(True)\n",
    "plt.legend()\n",
    "plt.show()\n",
    "\n",
    "plt.plot(x, y3, label='relu(x)') # ReLU function\n",
    "plt.xlabel('x')\n",
    "plt.ylabel('relu(x)')\n",
    "plt.title('ReLU Function')\n",
    "plt.grid(True)\n",
    "plt.legend()\n",
    "plt.show()\n",
    "\n",
    "plt.plot(x, dy3, label='d(ReLU(x))/dx') # derivative of ReLU function\n",
    "plt.xlabel('x')\n",
    "plt.ylabel('d(ReLU(x))/dx')\n",
    "plt.title('Derivative of ReLU(x)')\n",
    "plt.grid(True)\n",
    "plt.legend()\n",
    "plt.show()"
   ]
  }
 ],
 "metadata": {
  "kernelspec": {
   "display_name": "Python 3",
   "language": "python",
   "name": "python3"
  },
  "language_info": {
   "name": "python",
   "version": "3.11.7"
  }
 },
 "nbformat": 4,
 "nbformat_minor": 2
}
